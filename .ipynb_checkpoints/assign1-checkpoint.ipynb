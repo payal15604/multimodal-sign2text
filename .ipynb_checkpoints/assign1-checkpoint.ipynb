{
 "cells": [
  {
   "cell_type": "code",
   "execution_count": 1,
   "id": "61de9cc8",
   "metadata": {},
   "outputs": [],
   "source": [
    "import numpy as np"
   ]
  },
  {
   "cell_type": "code",
   "execution_count": 2,
   "id": "72d72d36",
   "metadata": {},
   "outputs": [
    {
     "name": "stdout",
     "output_type": "stream",
     "text": [
      "[5 4 6 3 2 1]\n"
     ]
    }
   ],
   "source": [
    "arr = np.array([1, 2, 3, 6, 4, 5])\n",
    "rev=np.flip(arr)\n",
    "print(rev)"
   ]
  },
  {
   "cell_type": "code",
   "execution_count": 4,
   "id": "2f7fe85c",
   "metadata": {},
   "outputs": [
    {
     "name": "stdout",
     "output_type": "stream",
     "text": [
      "[1 2 3 2 4 5 1 2 3]\n"
     ]
    }
   ],
   "source": [
    "array1 = np.array([[1, 2, 3], [2, 4, 5], [1, 2, 3]])\n",
    "flat=array1.flatten()\n",
    "print(flat)"
   ]
  },
  {
   "cell_type": "code",
   "execution_count": 6,
   "id": "02b359ae",
   "metadata": {},
   "outputs": [
    {
     "name": "stdout",
     "output_type": "stream",
     "text": [
      "True\n"
     ]
    }
   ],
   "source": [
    "arr1 = np.array([[1, 2], [3, 4]])\n",
    "arr2 = np.array([[1, 2], [3, 4]])\n",
    "result=np.array_equal(arr1,arr2)\n",
    "print(result)"
   ]
  },
  {
   "cell_type": "code",
   "execution_count": 7,
   "id": "901bfe3c",
   "metadata": {},
   "outputs": [
    {
     "name": "stdout",
     "output_type": "stream",
     "text": [
      "[[ True  True]\n",
      " [ True  True]]\n"
     ]
    }
   ],
   "source": [
    "result=arr1==arr2\n",
    "print(result)"
   ]
  },
  {
   "cell_type": "code",
   "execution_count": 9,
   "id": "922951f0",
   "metadata": {},
   "outputs": [
    {
     "name": "stdout",
     "output_type": "stream",
     "text": [
      "45\n"
     ]
    }
   ],
   "source": [
    "gfg = np.matrix('[4, 1, 9; 12, 3, 1; 4, 5, 6]')\n",
    "sum1=np.sum(gfg)\n",
    "print(sum1)"
   ]
  },
  {
   "cell_type": "code",
   "execution_count": 10,
   "id": "ef18aad3",
   "metadata": {},
   "outputs": [
    {
     "name": "stdout",
     "output_type": "stream",
     "text": [
      "[[20  9 16]]\n"
     ]
    }
   ],
   "source": [
    "sum2=np.sum(gfg, axis=0)\n",
    "print(sum2)"
   ]
  },
  {
   "cell_type": "code",
   "execution_count": 11,
   "id": "52302782",
   "metadata": {},
   "outputs": [
    {
     "name": "stdout",
     "output_type": "stream",
     "text": [
      "[[14]\n",
      " [16]\n",
      " [15]]\n"
     ]
    }
   ],
   "source": [
    "sum3=np.sum(gfg,axis=1)\n",
    "print(sum3)"
   ]
  },
  {
   "cell_type": "code",
   "execution_count": 13,
   "id": "f1595e34",
   "metadata": {},
   "outputs": [
    {
     "name": "stdout",
     "output_type": "stream",
     "text": [
      "176\n"
     ]
    }
   ],
   "source": [
    "n_array = np.array([[55, 25, 15],[30, 44, 2],[11, 45, 77]])\n",
    "diag=np.trace(n_array)\n",
    "print(diag)"
   ]
  },
  {
   "cell_type": "code",
   "execution_count": 15,
   "id": "1e869774",
   "metadata": {},
   "outputs": [
    {
     "name": "stdout",
     "output_type": "stream",
     "text": [
      "(array([98.16835147, 28.097044  , 49.73460452]), array([[ 0.4574917 ,  0.34637121, -0.15017693],\n",
      "       [ 0.28447814, -0.72784061, -0.4852124 ],\n",
      "       [ 0.84248058,  0.59184038,  0.8614034 ]]))\n"
     ]
    }
   ],
   "source": [
    "eigen=np.linalg.eig(n_array)\n",
    "print(eigen)"
   ]
  },
  {
   "cell_type": "code",
   "execution_count": 16,
   "id": "c21090f9",
   "metadata": {},
   "outputs": [
    {
     "name": "stdout",
     "output_type": "stream",
     "text": [
      "137180.0000000001\n"
     ]
    }
   ],
   "source": [
    "deter=np.linalg.det(n_array)\n",
    "print(deter)"
   ]
  },
  {
   "cell_type": "code",
   "execution_count": 21,
   "id": "b94c8cea",
   "metadata": {},
   "outputs": [
    {
     "name": "stdout",
     "output_type": "stream",
     "text": [
      "[[ 4 10]\n",
      " [12 21]]\n"
     ]
    }
   ],
   "source": [
    "p = np.array([[1, 2], [2, 3]])\n",
    "q = np.array([[4, 5], [6, 7]])\n",
    "prod=np.multiply(p,q)\n",
    "print(prod)"
   ]
  },
  {
   "cell_type": "code",
   "execution_count": 23,
   "id": "c732ac5a",
   "metadata": {},
   "outputs": [
    {
     "name": "stdout",
     "output_type": "stream",
     "text": [
      "[[0.66666667 1.        ]\n",
      " [1.         1.66666667]]\n"
     ]
    }
   ],
   "source": [
    "pflat=p.flatten()\n",
    "qflat=q.flatten()\n",
    "covar=np.cov((pflat,qflat))\n",
    "print(covar)"
   ]
  },
  {
   "cell_type": "code",
   "execution_count": 25,
   "id": "f4234f2a",
   "metadata": {},
   "outputs": [],
   "source": [
    "x = np.array([[2, 3, 4], [3, 2, 9]])\n",
    "y = np.array([[1, 5, 0], [5, 10, 3]])\n"
   ]
  },
  {
   "cell_type": "code",
   "execution_count": 28,
   "id": "cafd63d7",
   "metadata": {},
   "outputs": [
    {
     "name": "stdout",
     "output_type": "stream",
     "text": [
      "inner: [[17 52]\n",
      " [13 62]]\n",
      "outer: [[ 2 10  0 10 20  6]\n",
      " [ 3 15  0 15 30  9]\n",
      " [ 4 20  0 20 40 12]\n",
      " [ 3 15  0 15 30  9]\n",
      " [ 2 10  0 10 20  6]\n",
      " [ 9 45  0 45 90 27]]\n",
      "cartesian: [[-20   4   7]\n",
      " [-84  36  20]]\n"
     ]
    }
   ],
   "source": [
    "inner=np.inner(x,y)\n",
    "outer=np.outer(x,y)\n",
    "cartesian=np.cross(x,y)\n",
    "print(\"inner:\",inner)\n",
    "print(\"outer:\",outer)\n",
    "print(\"cartesian:\",cartesian)"
   ]
  },
  {
   "cell_type": "markdown",
   "id": "dd9fe18b",
   "metadata": {},
   "source": [
    "Q2"
   ]
  },
  {
   "cell_type": "code",
   "execution_count": 29,
   "id": "47d6a662",
   "metadata": {},
   "outputs": [
    {
     "name": "stdout",
     "output_type": "stream",
     "text": [
      "[[1 2 3]\n",
      " [4 5 6]]\n"
     ]
    }
   ],
   "source": [
    "array = np.array([[1, -2, 3],[-4, 5, -6]])\n",
    "Abs=np.abs(array)\n",
    "print(Abs)"
   ]
  },
  {
   "cell_type": "code",
   "execution_count": 31,
   "id": "635b333c",
   "metadata": {},
   "outputs": [
    {
     "name": "stdout",
     "output_type": "stream",
     "text": [
      "25th percentile of flattened array: -3.5\n",
      "50th percentile of flattened array: -0.5\n",
      "75th percentile of flattened array: 2.5\n"
     ]
    }
   ],
   "source": [
    "flat=array.flatten()\n",
    "one=np.percentile(flat,25)\n",
    "two=np.percentile(flat,50)\n",
    "three=np.percentile(flat,75)\n",
    "print(\"25th percentile of flattened array:\",one)\n",
    "print(\"50th percentile of flattened array:\",two)\n",
    "print(\"75th percentile of flattened array:\",three)"
   ]
  },
  {
   "cell_type": "code",
   "execution_count": 36,
   "id": "16963b94",
   "metadata": {},
   "outputs": [
    {
     "name": "stdout",
     "output_type": "stream",
     "text": [
      "25th percentile of column-wise array: [-2.75 -0.25 -3.75]\n",
      "50th percentile of column-wise array: [-1.5  1.5 -1.5]\n",
      "75th percentile of column-wise array: [-0.25  3.25  0.75]\n"
     ]
    }
   ],
   "source": [
    "one=np.percentile(array,25,axis=0)\n",
    "two=np.percentile(array,50,axis=0)\n",
    "three=np.percentile(array,75,axis=0)\n",
    "\n",
    "print(\"25th percentile of column-wise array:\",one)\n",
    "print(\"50th percentile of column-wise array:\",two)\n",
    "print(\"75th percentile of column-wise array:\",three)"
   ]
  },
  {
   "cell_type": "code",
   "execution_count": 37,
   "id": "853b7361",
   "metadata": {},
   "outputs": [
    {
     "name": "stdout",
     "output_type": "stream",
     "text": [
      "25th percentile of row-wise array: [-0.5 -5. ]\n",
      "50th percentile of row-wise array: [ 1. -4.]\n",
      "75th percentile of row-wise array: [2.  0.5]\n"
     ]
    }
   ],
   "source": [
    "one=np.percentile(array,25,axis=1)\n",
    "two=np.percentile(array,50,axis=1)\n",
    "three=np.percentile(array,75,axis=1)\n",
    "print(\"25th percentile of row-wise array:\",one)\n",
    "print(\"50th percentile of row-wise array:\",two)\n",
    "print(\"75th percentile of row-wise array:\",three)"
   ]
  },
  {
   "cell_type": "code",
   "execution_count": 38,
   "id": "dc4d54e9",
   "metadata": {},
   "outputs": [
    {
     "name": "stdout",
     "output_type": "stream",
     "text": [
      "mean of flattened array: -0.5\n",
      "median of flattened array: -0.5\n",
      "standard deviation of flattened array: 3.8622100754188224\n"
     ]
    }
   ],
   "source": [
    "mean=np.mean(flat)\n",
    "median=np.median(flat)\n",
    "std=np.std(flat)\n",
    "print(\"mean of flattened array:\",mean)\n",
    "print(\"median of flattened array:\",median)\n",
    "print(\"standard deviation of flattened array:\", std)"
   ]
  },
  {
   "cell_type": "code",
   "execution_count": 39,
   "id": "d301b97a",
   "metadata": {},
   "outputs": [
    {
     "name": "stdout",
     "output_type": "stream",
     "text": [
      "mean of column-wise array: [-1.5  1.5 -1.5]\n",
      "median of column-wise array: [-1.5  1.5 -1.5]\n",
      "standard deviation of column-wise array: [2.5 3.5 4.5]\n"
     ]
    }
   ],
   "source": [
    "mean=np.mean(array,axis=0)\n",
    "median=np.median(array,axis=0)\n",
    "std=np.std(array,axis=0)\n",
    "print(\"mean of column-wise array:\",mean)\n",
    "print(\"median of column-wise array:\",median)\n",
    "print(\"standard deviation of column-wise array:\", std)"
   ]
  },
  {
   "cell_type": "code",
   "execution_count": 40,
   "id": "11cb88ec",
   "metadata": {},
   "outputs": [
    {
     "name": "stdout",
     "output_type": "stream",
     "text": [
      "mean of row-wise array: [ 0.66666667 -1.66666667]\n",
      "median of row-wise array: [ 1. -4.]\n",
      "standard deviation of row-wise array: [2.05480467 4.78423336]\n"
     ]
    }
   ],
   "source": [
    "mean=np.mean(array,axis=1)\n",
    "median=np.median(array,axis=1)\n",
    "std=np.std(array,axis=1)\n",
    "print(\"mean of row-wise array:\",mean)\n",
    "print(\"median of row-wise array:\",median)\n",
    "print(\"standard deviation of row-wise array:\", std)"
   ]
  },
  {
   "cell_type": "code",
   "execution_count": 41,
   "id": "8e7b1fe8",
   "metadata": {},
   "outputs": [
    {
     "name": "stdout",
     "output_type": "stream",
     "text": [
      "[-2. -2. -1.  0.  1.  1.  3.]\n"
     ]
    }
   ],
   "source": [
    "a = np.array([-1.8, -1.6, -0.5, 0.5,1.6, 1.8, 3.0])\n",
    "floor=np.floor(a)\n",
    "print(floor)"
   ]
  },
  {
   "cell_type": "code",
   "execution_count": 43,
   "id": "b30de9f7",
   "metadata": {},
   "outputs": [
    {
     "name": "stdout",
     "output_type": "stream",
     "text": [
      "ceiling values: [-1. -1. -0.  1.  2.  2.  3.]\n",
      "truncated values: [-1. -1. -0.  0.  1.  1.  3.]\n",
      "rounded values: [-2. -2. -0.  0.  2.  2.  3.]\n"
     ]
    }
   ],
   "source": [
    "ceil=np.ceil(a)\n",
    "print(\"ceiling values:\",ceil)\n",
    "trunc=np.trunc(a)\n",
    "print(\"truncated values:\",trunc)\n",
    "rd=np.round(a)\n",
    "print(\"rounded values:\",rd)"
   ]
  },
  {
   "cell_type": "code",
   "execution_count": 44,
   "id": "00020943",
   "metadata": {},
   "outputs": [
    {
     "name": "stdout",
     "output_type": "stream",
     "text": [
      "[ 10  16  16  52  54  62 453]\n"
     ]
    }
   ],
   "source": [
    "array = np.array([10, 52, 62, 16, 16, 54, 453])\n",
    "sort=np.sort(array)\n",
    "print(sort)"
   ]
  },
  {
   "cell_type": "code",
   "execution_count": 45,
   "id": "9792f4cb",
   "metadata": {},
   "outputs": [
    {
     "name": "stdout",
     "output_type": "stream",
     "text": [
      "[0 3 4 1 5 2 6]\n"
     ]
    }
   ],
   "source": [
    "indices=array.argsort()\n",
    "print(indices)"
   ]
  },
  {
   "cell_type": "code",
   "execution_count": 48,
   "id": "c39afdba",
   "metadata": {},
   "outputs": [
    {
     "name": "stdout",
     "output_type": "stream",
     "text": [
      "smallest four elememts [10 16 16 52]\n"
     ]
    }
   ],
   "source": [
    "print(\"smallest four elememts\",sort[:4])"
   ]
  },
  {
   "cell_type": "code",
   "execution_count": 52,
   "id": "3b198df1",
   "metadata": {},
   "outputs": [
    {
     "name": "stdout",
     "output_type": "stream",
     "text": [
      "largest five elememts [ 16  52  54  62 453]\n"
     ]
    }
   ],
   "source": [
    "print(\"largest five elememts\",sort[-5:])"
   ]
  },
  {
   "cell_type": "code",
   "execution_count": 53,
   "id": "ed6ce703",
   "metadata": {},
   "outputs": [
    {
     "name": "stdout",
     "output_type": "stream",
     "text": [
      "Integer Elements: [1. 2. 3. 2.]\n",
      "Float Elements: [1.  1.2 2.2 2.  3.  2. ]\n"
     ]
    }
   ],
   "source": [
    "array = np.array([1.0, 1.2, 2.2, 2.0, 3.0, 2.0])\n",
    "int_elements = array[array.astype(int) == array]\n",
    "print(\"Integer Elements:\", int_elements)\n",
    "float_elements = array[array.astype(float) == array]\n",
    "print(\"Float Elements:\", float_elements)"
   ]
  },
  {
   "cell_type": "code",
   "execution_count": 58,
   "id": "2beaa256",
   "metadata": {},
   "outputs": [],
   "source": [
    "from PIL import Image\n",
    "import numpy as np\n",
    "\n",
    "def img_to_array(path, output_file='image_data.txt'):\n",
    "    with Image.open(path) as img:\n",
    "        img_array = np.array(img)\n",
    "\n",
    "        if len(img_array.shape) == 3 and img_array.shape[2] == 3:\n",
    "            image_type = 'RGB'\n",
    "            dimensions = img_array.shape\n",
    "        elif len(img_array.shape) == 2:\n",
    "            image_type = 'Greyscale'\n",
    "            dimensions = img_array.shape\n",
    "        else:\n",
    "            raise ValueError(\"Unsupported image format\")\n",
    "\n",
    "        with open(output_file, 'w') as f:\n",
    "            f.write(f\"{image_type}\\n\")\n",
    "            f.write(f\"{dimensions[0]},{dimensions[1]}\")\n",
    "            if image_type == 'RGB':\n",
    "                f.write(f\",{dimensions[2]}\\n\")\n",
    "            else:\n",
    "                f.write(\"\\n\")\n",
    "            np.savetxt(f, img_array.flatten(), fmt='%d' if image_type == 'Greyscale' else '%d', delimiter=',')\n",
    "\n",
    "        print(f\"Image data saved to {output_file} as {image_type} format.\")\n",
    "\n",
    "\n",
    "\n"
   ]
  },
  {
   "cell_type": "code",
   "execution_count": 59,
   "id": "a254c87a",
   "metadata": {},
   "outputs": [
    {
     "ename": "IndentationError",
     "evalue": "expected an indented block after 'with' statement on line 5 (1816175716.py, line 7)",
     "output_type": "error",
     "traceback": [
      "\u001b[1;36m  Cell \u001b[1;32mIn[59], line 7\u001b[1;36m\u001b[0m\n\u001b[1;33m    image_type = lines[0].strip()\u001b[0m\n\u001b[1;37m    ^\u001b[0m\n\u001b[1;31mIndentationError\u001b[0m\u001b[1;31m:\u001b[0m expected an indented block after 'with' statement on line 5\n"
     ]
    }
   ],
   "source": [
    "import numpy as np\n",
    "import matplotlib.pyplot as plt\n",
    "\n",
    "def load_and_display_image(file_path):\n",
    "    with open(file_path, 'r') as f:\n",
    "           image_type = lines[0].strip()\n",
    "    dimensions = tuple(map(int, lines[1].strip().split(',')))\n",
    "\n",
    " \n",
    "\n",
    "    loaded_array = np.loadtxt(file_path, delimiter=',', skiprows=2)\n",
    "\n",
    "    if image_type == 'RGB':\n",
    "        reshaped_array = loaded_array.reshape(dimensions)\n",
    "    elif image_type == 'Greyscale':\n",
    "        reshaped_array = loaded_array.reshape(dimensions)\n",
    "    else:\n",
    "        raise ValueError(\"Unsupported image type\")\n",
    "\n",
    "    plt.imshow(reshaped_array, cmap='gray' if image_type == 'Greyscale' else None)\n",
    "    plt.axis('off')\n",
    "    plt.show()\n",
    "\n",
    "\n",
    "\n"
   ]
  },
  {
   "cell_type": "code",
   "execution_count": 56,
   "id": "f4428d20",
   "metadata": {},
   "outputs": [
    {
     "name": "stdout",
     "output_type": "stream",
     "text": [
      "Image data saved to image_data.txt as RGB format.\n"
     ]
    }
   ],
   "source": [
    "img_to_array('amazonlogo.jpg', 'image_data.txt')\n"
   ]
  },
  {
   "cell_type": "code",
   "execution_count": 57,
   "id": "ee26b84c",
   "metadata": {},
   "outputs": [
    {
     "ename": "ValueError",
     "evalue": "cannot reshape array of size 186813 into shape (337,187,3)",
     "output_type": "error",
     "traceback": [
      "\u001b[1;31m---------------------------------------------------------------------------\u001b[0m",
      "\u001b[1;31mValueError\u001b[0m                                Traceback (most recent call last)",
      "Cell \u001b[1;32mIn[57], line 1\u001b[0m\n\u001b[1;32m----> 1\u001b[0m \u001b[43mload_and_display_image\u001b[49m\u001b[43m(\u001b[49m\u001b[38;5;124;43m'\u001b[39;49m\u001b[38;5;124;43mimage_data.txt\u001b[39;49m\u001b[38;5;124;43m'\u001b[39;49m\u001b[43m,\u001b[49m\u001b[43m \u001b[49m\u001b[43mshape\u001b[49m\u001b[38;5;241;43m=\u001b[39;49m\u001b[43m(\u001b[49m\u001b[38;5;241;43m337\u001b[39;49m\u001b[43m,\u001b[49m\u001b[43m \u001b[49m\u001b[38;5;241;43m187\u001b[39;49m\u001b[43m,\u001b[49m\u001b[43m \u001b[49m\u001b[38;5;241;43m3\u001b[39;49m\u001b[43m)\u001b[49m\u001b[43m,\u001b[49m\u001b[43m \u001b[49m\u001b[43mimage_type\u001b[49m\u001b[38;5;241;43m=\u001b[39;49m\u001b[38;5;124;43m'\u001b[39;49m\u001b[38;5;124;43mRGB\u001b[39;49m\u001b[38;5;124;43m'\u001b[39;49m\u001b[43m)\u001b[49m\n",
      "Cell \u001b[1;32mIn[55], line 11\u001b[0m, in \u001b[0;36mload_and_display_image\u001b[1;34m(file_path, shape, image_type)\u001b[0m\n\u001b[0;32m      8\u001b[0m     \u001b[38;5;28;01mraise\u001b[39;00m \u001b[38;5;167;01mValueError\u001b[39;00m(\u001b[38;5;124m\"\u001b[39m\u001b[38;5;124mOriginal shape must be provided for reshaping\u001b[39m\u001b[38;5;124m\"\u001b[39m)\n\u001b[0;32m     10\u001b[0m \u001b[38;5;28;01mif\u001b[39;00m image_type \u001b[38;5;241m==\u001b[39m \u001b[38;5;124m'\u001b[39m\u001b[38;5;124mRGB\u001b[39m\u001b[38;5;124m'\u001b[39m:\n\u001b[1;32m---> 11\u001b[0m     reshaped_array \u001b[38;5;241m=\u001b[39m \u001b[43mloaded_array\u001b[49m\u001b[38;5;241;43m.\u001b[39;49m\u001b[43mreshape\u001b[49m\u001b[43m(\u001b[49m\u001b[43mshape\u001b[49m\u001b[43m)\u001b[49m\n\u001b[0;32m     12\u001b[0m \u001b[38;5;28;01melif\u001b[39;00m image_type \u001b[38;5;241m==\u001b[39m \u001b[38;5;124m'\u001b[39m\u001b[38;5;124mGreyscale\u001b[39m\u001b[38;5;124m'\u001b[39m:\n\u001b[0;32m     13\u001b[0m     reshaped_array \u001b[38;5;241m=\u001b[39m loaded_array\u001b[38;5;241m.\u001b[39mreshape(shape)\n",
      "\u001b[1;31mValueError\u001b[0m: cannot reshape array of size 186813 into shape (337,187,3)"
     ]
    }
   ],
   "source": [
    "load_and_display_image('image_data.txt', shape=(337, 187, 3), image_type='RGB')\n",
    "\n"
   ]
  },
  {
   "cell_type": "code",
   "execution_count": null,
   "id": "d281e24c",
   "metadata": {},
   "outputs": [],
   "source": []
  }
 ],
 "metadata": {
  "kernelspec": {
   "display_name": "Python 3 (ipykernel)",
   "language": "python",
   "name": "python3"
  },
  "language_info": {
   "codemirror_mode": {
    "name": "ipython",
    "version": 3
   },
   "file_extension": ".py",
   "mimetype": "text/x-python",
   "name": "python",
   "nbconvert_exporter": "python",
   "pygments_lexer": "ipython3",
   "version": "3.10.9"
  }
 },
 "nbformat": 4,
 "nbformat_minor": 5
}
