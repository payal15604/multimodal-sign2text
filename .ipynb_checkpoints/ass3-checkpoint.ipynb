{
 "cells": [
  {
   "cell_type": "code",
   "execution_count": 1,
   "id": "b064bd44",
   "metadata": {},
   "outputs": [
    {
     "name": "stdout",
     "output_type": "stream",
     "text": [
      "Feature matrix shape: (1797, 64)\n",
      "Target vector shape: (1797,)\n",
      "Sample feature values:\n",
      "[ 0.  0.  5. 13.  9.  1.  0.  0.  0.  0. 13. 15. 10. 15.  5.  0.  0.  3.\n",
      " 15.  2.  0. 11.  8.  0.  0.  4. 12.  0.  0.  8.  8.  0.  0.  5.  8.  0.\n",
      "  0.  9.  8.  0.  0.  4. 11.  0.  1. 12.  7.  0.  0.  2. 14.  5. 10. 12.\n",
      "  0.  0.  0.  0.  6. 13. 10.  0.  0.  0.]\n",
      "Sample target label: 0\n"
     ]
    }
   ],
   "source": [
    "from sklearn.datasets import load_digits\n",
    "\n",
    "digits = load_digits()\n",
    "\n",
    "\n",
    "X = digits.data  \n",
    "y = digits.target \n",
    "\n",
    "\n",
    "print(f\"Feature matrix shape: {X.shape}\")\n",
    "print(f\"Target vector shape: {y.shape}\")\n",
    "print(f\"Sample feature values:\\n{X[0]}\")\n",
    "print(f\"Sample target label: {y[0]}\")\n"
   ]
  },
  {
   "cell_type": "code",
   "execution_count": 2,
   "id": "89ff0b0b",
   "metadata": {},
   "outputs": [
    {
     "name": "stdout",
     "output_type": "stream",
     "text": [
      "Normalized feature values (first sample):\n",
      "[0.         0.         0.3125     0.8125     0.5625     0.0625\n",
      " 0.         0.         0.         0.         0.8125     0.9375\n",
      " 0.625      0.9375     0.3125     0.         0.         0.1875\n",
      " 0.9375     0.125      0.         0.6875     0.5        0.\n",
      " 0.         0.26666667 0.75       0.         0.         0.5\n",
      " 0.53333333 0.         0.         0.35714286 0.5        0.\n",
      " 0.         0.5625     0.57142857 0.         0.         0.25\n",
      " 0.6875     0.         0.0625     0.75       0.4375     0.\n",
      " 0.         0.125      0.875      0.3125     0.625      0.75\n",
      " 0.         0.         0.         0.         0.375      0.8125\n",
      " 0.625      0.         0.         0.        ]\n"
     ]
    }
   ],
   "source": [
    "from sklearn.preprocessing import MinMaxScaler\n",
    "scaler = MinMaxScaler()\n",
    "\n",
    "X_normalized = scaler.fit_transform(X)\n",
    "\n",
    "print(f\"Normalized feature values (first sample):\\n{X_normalized[0]}\")"
   ]
  },
  {
   "cell_type": "code",
   "execution_count": null,
   "id": "42ebcd76",
   "metadata": {},
   "outputs": [],
   "source": []
  }
 ],
 "metadata": {
  "kernelspec": {
   "display_name": "Python 3 (ipykernel)",
   "language": "python",
   "name": "python3"
  },
  "language_info": {
   "codemirror_mode": {
    "name": "ipython",
    "version": 3
   },
   "file_extension": ".py",
   "mimetype": "text/x-python",
   "name": "python",
   "nbconvert_exporter": "python",
   "pygments_lexer": "ipython3",
   "version": "3.10.9"
  }
 },
 "nbformat": 4,
 "nbformat_minor": 5
}
